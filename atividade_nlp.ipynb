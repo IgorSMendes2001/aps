{
 "cells": [
  {
   "cell_type": "markdown",
   "id": "3bee2da6",
   "metadata": {},
   "source": [
    "### Atividade Busca Semântica\n",
    "\n",
    "Nesta atividade você deve aplicar os conhecimentos sobre word embeddings e tokenização para criar um mecanismos de busca semântica. Será disponibilizado um conjunto de dados que possui perguntas médicas, em inglês. Esse conjunto de dados possui as perguntas e também as respostas.\n",
    "\n",
    "Você deve gerar os vetores das perguntas do conjunto de dados, e permitir que o \"usuário\" envie a sua pergunta. Você também deve gerar o vetor da pergunta do usuário e com isso buscar a resposta ideal para o usuário. **A resposta ideal é aquela onde o vetor da pergunta do usuário é mais similar ao vetor da pergunta do conjunto de dados** Consulte o notebook \"nlp2.ipynb\" para verificar como realizamos esse processo\n",
    "\n",
    "Portanto, no seu script deve ser possível escrever um texto \"pergunta\" e deve ser retornado a resposta adequada, isto é, a resposta associada a pergunta mais similar no conjunto de dados.\n",
    "\n",
    "Para isso utilize o pandas e os packages do huggingface"
   ]
  },
  {
   "cell_type": "code",
   "execution_count": 2,
   "id": "46713905",
   "metadata": {},
   "outputs": [
    {
     "name": "stderr",
     "output_type": "stream",
     "text": [
      "/workspaces/aps/venv/lib/python3.12/site-packages/tqdm/auto.py:21: TqdmWarning: IProgress not found. Please update jupyter and ipywidgets. See https://ipywidgets.readthedocs.io/en/stable/user_install.html\n",
      "  from .autonotebook import tqdm as notebook_tqdm\n"
     ]
    },
    {
     "name": "stdout",
     "output_type": "stream",
     "text": [
      "Downloading from https://www.kaggle.com/api/v1/datasets/download/pythonafroz/medquad-medical-question-answer-for-ai-research?dataset_version_number=1...\n"
     ]
    },
    {
     "name": "stderr",
     "output_type": "stream",
     "text": [
      "100%|██████████| 4.95M/4.95M [00:00<00:00, 134MB/s]"
     ]
    },
    {
     "name": "stdout",
     "output_type": "stream",
     "text": [
      "Extracting files...\n",
      "Path to dataset files: /home/codespace/.cache/kagglehub/datasets/pythonafroz/medquad-medical-question-answer-for-ai-research/versions/1\n"
     ]
    },
    {
     "name": "stderr",
     "output_type": "stream",
     "text": [
      "\n"
     ]
    }
   ],
   "source": [
    "### Download do conjunto de dados\n",
    "\n",
    "import kagglehub\n",
    "\n",
    "# Download latest version\n",
    "path = kagglehub.dataset_download(\"pythonafroz/medquad-medical-question-answer-for-ai-research\")\n",
    "\n",
    "print(\"Path to dataset files:\", path)"
   ]
  },
  {
   "cell_type": "code",
   "execution_count": 3,
   "id": "846ed2df",
   "metadata": {},
   "outputs": [],
   "source": [
    "import pandas as pd\n",
    "from transformers import AutoTokenizer, AutoModel\n",
    "import torch\n",
    "import torch.nn.functional as F\n",
    "from torch import Tensor\n",
    "from transformers.tokenization_utils_base import BatchEncoding"
   ]
  },
  {
   "cell_type": "code",
   "execution_count": 4,
   "id": "9a448549",
   "metadata": {},
   "outputs": [],
   "source": [
    "## Amostra do conjunto\n",
    "\n",
    "df = pd.read_csv(f\"{path}/medquad.csv\")\n",
    "df_amostra = df.sample(5000)"
   ]
  },
  {
   "cell_type": "code",
   "execution_count": 5,
   "id": "3694925b",
   "metadata": {},
   "outputs": [
    {
     "name": "stderr",
     "output_type": "stream",
     "text": [
      "2025-09-17 01:04:56.150761: I tensorflow/core/platform/cpu_feature_guard.cc:210] This TensorFlow binary is optimized to use available CPU instructions in performance-critical operations.\n",
      "To enable the following instructions: AVX2 FMA, in other operations, rebuild TensorFlow with the appropriate compiler flags.\n"
     ]
    }
   ],
   "source": [
    "# Modelo para a língua inglesa\n",
    "\n",
    "nome_modelo = \"bert-base-uncased\"\n",
    "tokenizer = AutoTokenizer.from_pretrained(nome_modelo)\n",
    "model = AutoModel.from_pretrained(nome_modelo)"
   ]
  },
  {
   "cell_type": "code",
   "execution_count": 6,
   "id": "e79cb1e9",
   "metadata": {},
   "outputs": [],
   "source": [
    "## Funções para: 1) Obter os tokens; 2) Obter os embeddings\n",
    "\n",
    "def get_tokens(pergunta: str) -> str:\n",
    "    return tokenizer(pergunta, return_tensors=\"pt\")\n",
    "\n",
    "def get_vetores(tokens_pergunta: BatchEncoding) -> Tensor:\n",
    "\n",
    "    with torch.no_grad():\n",
    "        outputs = model(**tokens_pergunta)\n",
    "        embeddings = outputs.last_hidden_state\n",
    "\n",
    "    return embeddings"
   ]
  },
  {
   "cell_type": "code",
   "execution_count": 7,
   "id": "3b1e1ace",
   "metadata": {},
   "outputs": [],
   "source": [
    "## Novas colunas para os tokens e para os embeddings\n",
    "\n",
    "df_amostra['tokens'] = df_amostra['question'].apply(lambda x: get_tokens(x))\n",
    "df_amostra['vetores'] = df_amostra['tokens'].apply(lambda x: get_vetores(x))"
   ]
  },
  {
   "cell_type": "code",
   "execution_count": 8,
   "id": "0f2c5f9b",
   "metadata": {},
   "outputs": [
    {
     "name": "stdout",
     "output_type": "stream",
     "text": [
      "Calculando a similaridade...\n",
      "Cálculo da similaridade concluído.\n",
      "\n",
      "==================================================\n",
      "Pergunta do Usuário: What are the symptoms of a heart attack?\n",
      "------------------------------\n",
      "Pergunta Mais Similar Encontrada: What are the symptoms of Heart Attack ?\n",
      "------------------------------\n",
      "Resposta: Symptoms Can Vary Not all heart attacks begin with the sudden, crushing chest pain that often is shown on TV or in the movies. The warning signs and symptoms of a heart attack aren't the same for everyone. Many heart attacks start slowly as mild pain or discomfort. Some people don't have symptoms at all. Heart attacks that occur without any symptoms or very mild symptoms are called silent heart attacks. However, some people may have a pattern of symptoms that recur. The more signs and symptoms you have, the more likely it is that you're having a heart attack If you have a second heart attack, your symptoms may not be the same as the first heart attack. Here are common signs and symptoms of a heart attack. Chest Pain or Discomfort The most common symptom of heart attack is chest pain or discomfort. Chest pain or discomfort that doesn't go away or changes from its usual pattern (for example, occurs more often or while you're resting) can be a sign of a heart attack. Most heart attacks involve discomfort in the center of the chest that lasts for more than a few minutes or goes away and comes back. The discomfort can feel like uncomfortable pressure, squeezing, fullness, or pain. It can be mild or severe. Heart attack pain can sometimes feel like indigestion or heartburn. All chest pain should be checked by a doctor. Other Upper Body Discomfort Discomfort can also occur in other areas of the upper body, including pain or numbness in one or both arms, the back, neck, jaw or stomach. Shortness of Breath Shortness of breath often happens along with, or before chest discomfort. Other Symptoms Other symptoms may include - breaking out in a cold sweat   - having nausea and vomiting   - feeling light-headed or dizzy   - fainting   - sleep problems   - fatigue   - lack of energy.  breaking out in a cold sweat having nausea and vomiting feeling light-headed or dizzy fainting sleep problems fatigue lack of energy. Angina or a Heart Attack? Angina is chest pain or discomfort that occurs if an area of your heart muscle doesn't get enough oxygen-rich blood. Angina occurs in people who have coronary heart disease, usually when they're active. Angina symptoms can be very similar to heart attack symptoms. Angina pain usually lasts for only a few minutes and goes away with rest. If you think you may be having a heart attack, or if your angina pain does not go away as usual when you take your angina medication as directed, call 9-1-1 for help. You can begin to receive life saving treatment in the ambulance on the way to the emergency room.\n",
      "==================================================\n"
     ]
    }
   ],
   "source": [
    "def average_pool(last_hidden_states: Tensor, attention_mask: Tensor) -> Tensor:\n",
    "    last_hidden = last_hidden_states.masked_fill(~attention_mask[..., None].bool(), 0.0)\n",
    "    return last_hidden.sum(dim=1) / attention_mask.sum(dim=1)[..., None]\n",
    "\n",
    "# Aplica a função de média para obter os vetores de sentença\n",
    "df_amostra['vetores_medios'] = df_amostra.apply(lambda row: average_pool(row['vetores'], row['tokens']['attention_mask']), axis=1)\n",
    "\n",
    "# A pergunta do usuário\n",
    "pergunta_usuario = \"What are the symptoms of a heart attack?\"\n",
    "\n",
    "# Gera o vetor para a pergunta do usuário\n",
    "tokens_usuario = get_tokens(pergunta_usuario)\n",
    "vetores_usuario = get_vetores(tokens_usuario)\n",
    "vetor_medio_usuario = average_pool(vetores_usuario, tokens_usuario['attention_mask'])\n",
    "\n",
    "# Calcula a similaridade de cossenos entre a pergunta do usuário e todas as perguntas do conjunto de dados\n",
    "print(\"Calculando a similaridade...\")\n",
    "similarities = []\n",
    "for index, row in df_amostra.iterrows():\n",
    "    vetor_pergunta_df = row['vetores_medios']\n",
    "    similarity = F.cosine_similarity(vetor_medio_usuario, vetor_pergunta_df)\n",
    "    similarities.append(similarity.item())\n",
    "\n",
    "df_amostra['similaridade'] = similarities\n",
    "print(\"Cálculo da similaridade concluído.\")\n",
    "\n",
    "# Encontra a pergunta mais similar com base na maior pontuação de similaridade\n",
    "indice_mais_similar = df_amostra['similaridade'].idxmax()\n",
    "pergunta_mais_similar = df_amostra.loc[indice_mais_similar, 'question']\n",
    "resposta_correspondente = df_amostra.loc[indice_mais_similar, 'answer']\n",
    "\n",
    "# Exibe o resultado final\n",
    "print(\"\\n\" + \"=\"*50)\n",
    "print(f\"Pergunta do Usuário: {pergunta_usuario}\")\n",
    "print(\"-\" * 30)\n",
    "print(f\"Pergunta Mais Similar Encontrada: {pergunta_mais_similar}\")\n",
    "print(\"-\" * 30)\n",
    "print(f\"Resposta: {resposta_correspondente}\")\n",
    "print(\"=\"*50)\n"
   ]
  }
 ],
 "metadata": {
  "kernelspec": {
   "display_name": "venv",
   "language": "python",
   "name": "python3"
  },
  "language_info": {
   "codemirror_mode": {
    "name": "ipython",
    "version": 3
   },
   "file_extension": ".py",
   "mimetype": "text/x-python",
   "name": "python",
   "nbconvert_exporter": "python",
   "pygments_lexer": "ipython3",
   "version": "3.12.1"
  }
 },
 "nbformat": 4,
 "nbformat_minor": 5
}
